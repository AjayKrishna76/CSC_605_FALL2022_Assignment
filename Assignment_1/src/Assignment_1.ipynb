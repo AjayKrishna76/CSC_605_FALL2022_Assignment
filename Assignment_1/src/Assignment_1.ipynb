{
 "cells": [
  {
   "cell_type": "markdown",
   "id": "6ba6acc8",
   "metadata": {},
   "source": [
    "## Importing Libraries and reading the file into a list\n",
    "\n",
    "@https://www.geeksforgeeks.org/simple-ways-to-read-tsv-files-in-python/"
   ]
  },
  {
   "cell_type": "code",
   "execution_count": 1,
   "id": "8ec29481",
   "metadata": {},
   "outputs": [],
   "source": [
    "import csv,random\n",
    "with open('../data/fall-22-students.tsv','rt') as i:\n",
    "    tsv = csv.reader(i,delimiter=\"\\t\")\n",
    "    info = list(tsv)    \n",
    "info.remove(info[0]) # removing the heading "
   ]
  },
  {
   "cell_type": "markdown",
   "id": "ddc2a2de",
   "metadata": {},
   "source": [
    "## requesting user to select the size of each group"
   ]
  },
  {
   "cell_type": "code",
   "execution_count": 2,
   "id": "c331ef95",
   "metadata": {},
   "outputs": [
    {
     "name": "stdout",
     "output_type": "stream",
     "text": [
      "group size (integer) \n",
      "5\n"
     ]
    }
   ],
   "source": [
    "group_size = int(input(\"group size (integer) \\n\"))"
   ]
  },
  {
   "cell_type": "markdown",
   "id": "0d85168a",
   "metadata": {},
   "source": [
    "## Shuffling the list in random"
   ]
  },
  {
   "cell_type": "code",
   "execution_count": 3,
   "id": "bdbf9468",
   "metadata": {},
   "outputs": [],
   "source": [
    "random.shuffle(info)"
   ]
  },
  {
   "cell_type": "markdown",
   "id": "1f3f04dd",
   "metadata": {},
   "source": [
    "## Breaking the shuffled list into size of group given by the user\n",
    "@https://www.geeksforgeeks.org/break-list-chunks-size-n-python/"
   ]
  },
  {
   "cell_type": "code",
   "execution_count": 4,
   "id": "a6f9afa1",
   "metadata": {},
   "outputs": [
    {
     "name": "stdout",
     "output_type": "stream",
     "text": [
      "Group Number: 1\n",
      "[['Shah, Manish', '4333100139881963958'], ['Abisiga, Mojeed', '1756748071387330450'], ['Veeramaneni, Varsha', '-1090991306239913969'], ['Darandale, Aditi', '-3592947821904789059'], ['Kuluri, Manichandana', '-9113492615128308341']] \n",
      "\n",
      "Group Number: 2\n",
      "[['Kallem, Snehith', '296389889114347009'], ['Patil, Deeksha', '7980120123048414705'], ['Gunde, Deeksha', '4069553384325267097'], ['Doerr, Maximilian', '-241870194234947188'], ['Potlapally, Shruti Nandana', '6680005440180066297']] \n",
      "\n",
      "Group Number: 3\n",
      "[['Farahani, Parisa', '-782669854885580552'], ['Nezianya, Ndubuisi', '-1868760087748791974'], ['Arasikere Rakesh, Raveena', '2715387848376511785'], ['Shou, Wenhao', '2262113024811264944'], ['Budavi, Priyanka', '609722887760680710']] \n",
      "\n",
      "Group Number: 4\n",
      "[['Gayam, Sai Santosh Reddy', '-2863333019251892158'], ['Nimmaturi, Sai Swapnika', '8871653806563935680'], ['Annamalai, Varsha', '2732727504348557328'], ['Teri, Benjamin', '8158995515482271942'], ['Havalchi, Mufaddal', '5556700921407775642']] \n",
      "\n",
      "Group Number: 5\n",
      "[['Gabbula, Venkata Vijay Krishna', '2274622967677883996'], ['Gabbula, Sai Ram Ajay Krishna', '3430638400286662722'], ['Vidapu, Aman Tej', '7347350608443768573']] \n",
      "\n"
     ]
    }
   ],
   "source": [
    "start = 0 ;end = len(info) ; groupno =1\n",
    "for i in range(start, end, group_size):\n",
    "    print('Group Number: %d' % (groupno))\n",
    "    print(info[i:i+group_size], \"\\n\")\n",
    "    groupno += 1"
   ]
  }
 ],
 "metadata": {
  "kernelspec": {
   "display_name": "Python 3 (ipykernel)",
   "language": "python",
   "name": "python3"
  },
  "language_info": {
   "codemirror_mode": {
    "name": "ipython",
    "version": 3
   },
   "file_extension": ".py",
   "mimetype": "text/x-python",
   "name": "python",
   "nbconvert_exporter": "python",
   "pygments_lexer": "ipython3",
   "version": "3.9.7"
  }
 },
 "nbformat": 4,
 "nbformat_minor": 5
}
