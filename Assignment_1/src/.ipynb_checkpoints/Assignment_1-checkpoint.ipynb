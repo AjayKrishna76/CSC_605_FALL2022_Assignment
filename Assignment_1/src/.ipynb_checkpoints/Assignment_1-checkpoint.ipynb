{
 "cells": [
  {
   "cell_type": "code",
   "execution_count": 20,
   "id": "8f546aff",
   "metadata": {},
   "outputs": [
    {
     "name": "stdout",
     "output_type": "stream",
     "text": [
      "Pick the size of group \n",
      "4\n",
      "Group Number: 1\n",
      "['Arasikere Rakesh, Raveena', '2715387848376511785']\n",
      "['Havalchi, Mufaddal', '5556700921407775642']\n",
      "['Darandale, Aditi', '-3592947821904789059']\n",
      "['Gayam, Sai Santosh Reddy', '-2863333019251892158']\n",
      "Group Number: 2\n",
      "['Doerr, Maximilian', '-241870194234947188']\n",
      "['Abisiga, Mojeed', '1756748071387330450']\n",
      "['Nezianya, Ndubuisi', '-1868760087748791974']\n",
      "['Potlapally, Shruti Nandana', '6680005440180066297']\n",
      "Group Number: 3\n",
      "['Budavi, Priyanka', '609722887760680710']\n",
      "['Gabbula, Sai Ram Ajay Krishna', '3430638400286662722']\n",
      "['Kuluri, Manichandana', '-9113492615128308341']\n",
      "['Nimmaturi, Sai Swapnika', '8871653806563935680']\n",
      "Group Number: 4\n",
      "['Annamalai, Varsha', '2732727504348557328']\n",
      "['Gabbula, Venkata Vijay Krishna', '2274622967677883996']\n",
      "['Shah, Manish', '4333100139881963958']\n",
      "['Veeramaneni, Varsha', '-1090991306239913969']\n",
      "Group Number: 5\n",
      "['Kallem, Snehith', '296389889114347009']\n",
      "['Shou, Wenhao', '2262113024811264944']\n",
      "['Farahani, Parisa', '-782669854885580552']\n",
      "['Teri, Benjamin', '8158995515482271942']\n",
      "Group Number: 6\n",
      "['Gunde, Deeksha', '4069553384325267097']\n",
      "['Vidapu, Aman Tej', '7347350608443768573']\n",
      "['Patil, Deeksha', '7980120123048414705']\n"
     ]
    }
   ],
   "source": [
    "import csv                                              # importing the required packages\n",
    "from random import *\n",
    "\n",
    "with open('../data/fall-22-students.tsv','rt') as i:    # reading the file\n",
    "    tsv = csv.reader(i,delimiter=\"\\t\")                  #https://www.geeksforgeeks.org/simple-ways-to-read-tsv-files-in-python/\n",
    "    info = list(tsv)\n",
    "\n",
    "info.remove(info[0]) # removing the heading\n",
    "\n",
    "members = len(info) #counting the size of the list \n",
    "group_size = int(input(\"Pick the size of group \\n\"))    # requesting user to select the size of each group\n",
    "\n",
    "count = 1      # Starting count from 1\n",
    "groupno = 1    # Assigning group numbers for each group\n",
    "\n",
    "for i in range(0, members):\n",
    "    if count > group_size:  # if this condition is true, we change the group and start counting again\n",
    "        count = 1\n",
    "        groupno += 1\n",
    "        \n",
    "    if count == 1: # For each new group printing the group number\n",
    "        print('Group Number: %d' % (groupno))\n",
    "            \n",
    "    random = randint(0,len(info)-1)  # picking up random row/data from the list\n",
    "    print(info[random])              # printing the data\n",
    "    info.remove(info[random])        # removing the data that is printed\n",
    "    count += 1"
   ]
  }
 ],
 "metadata": {
  "kernelspec": {
   "display_name": "Python 3 (ipykernel)",
   "language": "python",
   "name": "python3"
  },
  "language_info": {
   "codemirror_mode": {
    "name": "ipython",
    "version": 3
   },
   "file_extension": ".py",
   "mimetype": "text/x-python",
   "name": "python",
   "nbconvert_exporter": "python",
   "pygments_lexer": "ipython3",
   "version": "3.9.7"
  }
 },
 "nbformat": 4,
 "nbformat_minor": 5
}
